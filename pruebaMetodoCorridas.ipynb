{
  "nbformat": 4,
  "nbformat_minor": 0,
  "metadata": {
    "colab": {
      "provenance": [],
      "include_colab_link": true
    },
    "kernelspec": {
      "name": "ir",
      "display_name": "R"
    },
    "language_info": {
      "name": "R"
    }
  },
  "cells": [
    {
      "cell_type": "markdown",
      "metadata": {
        "id": "view-in-github",
        "colab_type": "text"
      },
      "source": [
        "<a href=\"https://colab.research.google.com/github/ALEJOOYT/PruebaMetodoCorridasSimulacion/blob/main/pruebaMetodoCorridas.ipynb\" target=\"_parent\"><img src=\"https://colab.research.google.com/assets/colab-badge.svg\" alt=\"Open In Colab\"/></a>"
      ]
    },
    {
      "cell_type": "markdown",
      "source": [
        "# <center>Escuela Militar de Ingeniería</center>\n",
        "<center>Ingeniería de Sistemas</center>\n",
        "<center><img src=\"https://i.servimg.com/u/f73/20/03/60/99/logo_i12.jpg\" width=\"300\"></center>\n",
        "<center>Estudiante: Zalles Merino Izai Alejandro</center>\n",
        "<center>Código SAGA: A27006-7</center>\n",
        "\n",
        "## <center>Docente: Ing. Angela Santos</center>\n",
        "## Fecha: 21 de Abril de 2025"
      ],
      "metadata": {
        "id": "lfxUWtHb1zYJ"
      }
    },
    {
      "cell_type": "code",
      "execution_count": 1,
      "metadata": {
        "id": "iclMda8FwOJV"
      },
      "outputs": [],
      "source": [
        "# Función para aplicar el método de corrida\n",
        "MetodoDeCorrida <- function(serie) {\n",
        "\n",
        "  # Paso 1: Clasificación de los elementos como mayor o menor al anterior\n",
        "  direccion <- c()\n",
        "  for (i in 2:length(serie)) {\n",
        "    if (serie[i] > serie[i - 1]) {\n",
        "      direccion <- c(direccion, \"+\")\n",
        "    } else if (serie[i] < serie[i - 1]) {\n",
        "      direccion <- c(direccion, \"-\")\n",
        "    } else {\n",
        "      direccion <- c(direccion, direccion[length(direccion)])  # Si son iguales, se mantiene\n",
        "    }\n",
        "  }\n",
        "\n",
        "  # Paso 2: Contar las rachas de \"+\" o \"-\"\n",
        "  rachas <- 1\n",
        "  for (i in 2:length(direccion)) {\n",
        "    if (direccion[i] != direccion[i - 1]) {\n",
        "      rachas <- rachas + 1\n",
        "    }\n",
        "  }\n",
        "\n",
        "  # Paso 3: Calcular la media y la varianza esperada\n",
        "  n <- length(serie)\n",
        "  mediaEsperada <- (2 * n - 1) / 3\n",
        "  varianzaEsperada <- (16 * n - 29) / 90\n",
        "\n",
        "  # Paso 4: Calcular el estadístico Z\n",
        "  z <- (rachas - mediaEsperada) / sqrt(varianzaEsperada)\n",
        "\n",
        "  # Paso 5: Determinar si se rechaza la hipótesis de aleatoriedad\n",
        "  valorCritico <- 1.96\n",
        "  rechazarHipotesis <- abs(z) > valorCritico\n",
        "\n",
        "  # Paso 6: Resultado\n",
        "  resultado <- list(\n",
        "    direccion = direccion,\n",
        "    rachas = rachas,\n",
        "    mediaEsperada = mediaEsperada,\n",
        "    varianzaEsperada = varianzaEsperada,\n",
        "    estadisticoZ = z,\n",
        "    rechazarHipotesis = rechazarHipotesis\n",
        "  )\n",
        "\n",
        "  return(resultado)\n",
        "}"
      ]
    },
    {
      "cell_type": "code",
      "source": [
        "# ---------------------------------------\n",
        "# Interfaz de consola para el usuario\n",
        "\n",
        "CatBienvenidaCorrida <- function() {\n",
        "  cat(\"\\n==============================\\n\")\n",
        "  cat(\"     Método de Corrida\\n\")\n",
        "  cat(\"==============================\\n\")\n",
        "  cat(\"Introduce tu serie de números separados por comas (ej. 0.23, 0.51, 0.33):\\n\")\n",
        "}"
      ],
      "metadata": {
        "id": "AA0UgWfmxlFo"
      },
      "execution_count": 2,
      "outputs": []
    },
    {
      "cell_type": "code",
      "source": [
        "LeerSerieCorrida <- function() {\n",
        "  entrada <- readline(prompt = \"Ingresa la serie: \")\n",
        "  serieNumeros <- as.numeric(strsplit(entrada, \",\")[[1]])\n",
        "\n",
        "  if (any(is.na(serieNumeros))) {\n",
        "    cat(\"\\nError: Entrada no válida. Solo se permiten números separados por comas.\\n\")\n",
        "    return(NULL)\n",
        "  }\n",
        "\n",
        "  return(serieNumeros)\n",
        "}"
      ],
      "metadata": {
        "id": "Bt5-xj5vxoCy"
      },
      "execution_count": 3,
      "outputs": []
    },
    {
      "cell_type": "code",
      "source": [
        "MostrarResultadoCorrida <- function(resultado) {\n",
        "  cat(\"\\n==============================\\n\")\n",
        "  cat(\"Resultados del Método de Corrida:\\n\")\n",
        "  cat(\"==============================\\n\")\n",
        "  cat(\"Dirección entre pares sucesivos (+ si sube, - si baja):\\n\")\n",
        "  print(resultado$direccion)\n",
        "\n",
        "  cat(\"\\nNúmero de rachas encontradas:\\n\")\n",
        "  print(resultado$rachas)\n",
        "\n",
        "  cat(\"\\nMedia esperada de rachas:\\n\")\n",
        "  print(resultado$mediaEsperada)\n",
        "\n",
        "  cat(\"\\nVarianza esperada de rachas:\\n\")\n",
        "  print(resultado$varianzaEsperada)\n",
        "\n",
        "  cat(\"\\nEstadístico Z calculado:\\n\")\n",
        "  print(resultado$estadisticoZ)\n",
        "\n",
        "  cat(\"\\n¿Se rechaza la hipótesis de aleatoriedad?\\n\")\n",
        "  if (resultado$rechazarHipotesis) {\n",
        "    cat(\"Sí, se rechaza la hipótesis (la secuencia no es aleatoria).\\n\")\n",
        "  } else {\n",
        "    cat(\"No, no se rechaza la hipótesis (la secuencia es aleatoria).\\n\")\n",
        "  }\n",
        "}"
      ],
      "metadata": {
        "id": "0i1EZMIPxrhc"
      },
      "execution_count": 4,
      "outputs": []
    },
    {
      "cell_type": "code",
      "source": [
        "# ---------------------------------------\n",
        "# Función principal\n",
        "MetodoDeCorridaInteractivo <- function() {\n",
        "  CatBienvenidaCorrida()\n",
        "  serie <- LeerSerieCorrida()\n",
        "\n",
        "  if (!is.null(serie) && length(serie) >= 2) {\n",
        "    resultado <- MetodoDeCorrida(serie)\n",
        "    MostrarResultadoCorrida(resultado)\n",
        "  } else {\n",
        "    cat(\"\\nLa serie debe contener al menos dos elementos.\\n\")\n",
        "  }\n",
        "}\n",
        "\n",
        "# Ejecutar el programa\n",
        "MetodoDeCorridaInteractivo()"
      ],
      "metadata": {
        "colab": {
          "base_uri": "https://localhost:8080/"
        },
        "id": "cg3ikT1xxtis",
        "outputId": "71cae006-b48f-48aa-f545-88af5e6e2152"
      },
      "execution_count": 6,
      "outputs": [
        {
          "output_type": "stream",
          "name": "stdout",
          "text": [
            "Ingresa la serie: 1, 0, 1, 0, 1, 0, 1, 0\n",
            "\n",
            "==============================\n",
            "     Método de Corrida\n",
            "==============================\n",
            "Introduce tu serie de números separados por comas (ej. 0.23, 0.51, 0.33):\n",
            "\n",
            "==============================\n",
            "Resultados del Método de Corrida:\n",
            "==============================\n",
            "Dirección entre pares sucesivos (+ si sube, - si baja):\n",
            "[1] \"-\" \"+\" \"-\" \"+\" \"-\" \"+\" \"-\"\n",
            "\n",
            "Número de rachas encontradas:\n",
            "[1] 7\n",
            "\n",
            "Media esperada de rachas:\n",
            "[1] 5\n",
            "\n",
            "Varianza esperada de rachas:\n",
            "[1] 1.1\n",
            "\n",
            "Estadístico Z calculado:\n",
            "[1] 1.906925\n",
            "\n",
            "¿Se rechaza la hipótesis de aleatoriedad?\n",
            "No, no se rechaza la hipótesis (la secuencia es aleatoria).\n"
          ]
        }
      ]
    }
  ]
}